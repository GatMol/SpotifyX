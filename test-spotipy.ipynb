{
 "cells": [
  {
   "cell_type": "code",
   "execution_count": null,
   "metadata": {},
   "outputs": [],
   "source": [
    "import spotipy\n",
    "from spotipy.oauth2 import SpotifyClientCredentials\n",
    "import os"
   ]
  },
  {
   "cell_type": "markdown",
   "metadata": {},
   "source": [
    "## Esporta variabili d'ambiente con le credenziali per accedere all'API di Spotify\n",
    "```sh\n",
    "export SPOTIPY_CLIENT_ID=\"<client-id>\"\n",
    "export SPOTIPY_CLIENT_SECRET=\"<client-secret>\"\n",
    "export SPOTIPY_REDIRECT_URI=\"<redirect-uri>\"\n",
    "```\n",
    "```python\n",
    "auth_manager = SpotifyClientCredentials()\n",
    "sp = spotipy.Spotify(auth_manager=auth_manager)\n",
    "\n",
    "searched_playlist = sp.search(\"train\", type=\"playlist\", limit=1)\n",
    "searched_playlist\n",
    "```\n",
    "\n",
    "\n",
    "\n",
    "```python\n",
    "sp.playlist(searched_playlist['playlists']['items'][0]['id'])\n",
    "```"
   ]
  },
  {
   "cell_type": "code",
   "execution_count": null,
   "metadata": {},
   "outputs": [],
   "source": []
  },
  {
   "cell_type": "code",
   "execution_count": null,
   "metadata": {},
   "outputs": [],
   "source": [
    "os.environ['SPOTIPY_CLIENT_ID'] = '849dd12ce92340da93d43db106be45e0'\n",
    "os.environ['SPOTIPY_CLIENT_SECRET'] = '808ca08d40534e7b904e59d0d0981587'\n",
    "os.environ['SPOTIPY_REDIRECT_URI'] = 'https://localhost:4000'\n"
   ]
  },
  {
   "cell_type": "code",
   "execution_count": null,
   "metadata": {},
   "outputs": [],
   "source": [
    "auth_manager = SpotifyClientCredentials()\n",
    "sp = spotipy.Spotify(auth_manager=auth_manager)\n",
    "\n",
    "searched_playlist = sp.search(\"train\", type=\"playlist\", limit=1)\n",
    "searched_playlist"
   ]
  },
  {
   "cell_type": "code",
   "execution_count": null,
   "metadata": {},
   "outputs": [],
   "source": [
    "sp.playlist(searched_playlist['playlists']['items'][0]['id'])"
   ]
  },
  {
   "cell_type": "code",
   "execution_count": null,
   "metadata": {},
   "outputs": [],
   "source": []
  }
 ],
 "metadata": {
  "kernelspec": {
   "display_name": "bd",
   "language": "python",
   "name": "python3"
  },
  "language_info": {
   "codemirror_mode": {
    "name": "ipython",
    "version": 3
   },
   "file_extension": ".py",
   "mimetype": "text/x-python",
   "name": "python",
   "nbconvert_exporter": "python",
   "pygments_lexer": "ipython3",
   "version": "3.8.16"
  },
  "orig_nbformat": 4
 },
 "nbformat": 4,
 "nbformat_minor": 2
}
